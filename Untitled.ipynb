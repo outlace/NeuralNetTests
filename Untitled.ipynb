{
 "cells": [
  {
   "cell_type": "code",
   "execution_count": 21,
   "metadata": {
    "collapsed": false
   },
   "outputs": [
    {
     "name": "stdout",
     "output_type": "stream",
     "text": [
      "Prob Of Pos : 1.000000\n",
      "1\n"
     ]
    }
   ],
   "source": [
    "import numpy as np\n",
    "\n",
    "#Utility Functions\n",
    "def loadDataSet():\n",
    "    dataset = np.array([[1,1,1],\n",
    "                        [1,1,0],\n",
    "                        [1,0,1],\n",
    "                        [1,0,0]])\n",
    "    label = np.array([[1],[0],[0],[1]])\n",
    "    return dataset,label\n",
    "\n",
    "def sigmoid(z,derivate=False):\n",
    "    if derivate:\n",
    "        #Derivate Sigmoid Function\n",
    "        return z * (1-z)\n",
    "    #Simoidal Function\n",
    "    return 1.0 / (1.0 + np.e**(-z))\n",
    "\n",
    "def classify(value):\n",
    "    print(\"Prob Of Pos : %f\"%value)\n",
    "    if value >= 0.5:\n",
    "        print(\"1\")\n",
    "    else:\n",
    "        print(\"0\")\n",
    "\n",
    "#Arquitecture\n",
    "'''\n",
    "    3 nodes input layer - include bias\n",
    "    3 nodes hidden layer - include bias\n",
    "    1 node output layer\n",
    "'''\n",
    "        \n",
    "#Calc - HardCode for the arquitecture above\n",
    "X,y = loadDataSet()\n",
    "number_observations = X.shape[0]\n",
    "weights_1 = np.random.random((2,3))\n",
    "weights_2 = np.random.random((1,3))\n",
    "\n",
    "maxIter = 500\n",
    "activateDebug = False\n",
    "for iterNumber in range(maxIter):\n",
    "    #FeedForward\n",
    "    a_1 = sigmoid(np.dot(X,weights_1.T))\n",
    "    a_1 = np.hstack((np.ones((number_observations,1)),a_1))\n",
    "    a_2 = sigmoid(np.dot(a_1,weights_2.T))\n",
    "   \n",
    "    #BackPropagation\n",
    "    delta_2 = (y - a_2) \n",
    "    delta_1 = np.multiply(delta_2.dot(weights_2), sigmoid(a_1,True))\n",
    "    \n",
    "    if iterNumber % 100 == 0 and activateDebug:\n",
    "        print(\"Error : %f - %d\"%(np.sum(delta_2),iterNumber))\n",
    "   \n",
    "    #DELTA1:\n",
    "    '''\n",
    "        1)Product delta_1 * activation - in this case X o a_0\n",
    "        2)Sum by columns to get acumulate\n",
    "        3)Throw away first column\n",
    "        4)Make a reshape\n",
    "        5)Tile the vector, to be equal dimension of weights\n",
    "    '''\n",
    "    DELTA_1 = np.tile((np.sum(delta_1 * X,axis=0)[1:]).reshape(2,1),3)\n",
    "    \n",
    "    #DELTA2:\n",
    "    DELTA_2 = np.sum(delta_2 * a_1,axis=0).reshape(1,3)\n",
    "    weights_1 = weights_1 - DELTA_1\n",
    "    weights_2 = weights_2 - DELTA_2\n",
    "\n",
    "Test_X = np.array([[1,1,0]])\n",
    "a_1 = sigmoid(np.dot(Test_X,weights_1.T))\n",
    "a_1 = np.hstack((np.ones((1,1)),a_1))\n",
    "a_2 = sigmoid(np.dot(a_1,weights_2.T))\n",
    "\n",
    "classify(a_2)"
   ]
  },
  {
   "cell_type": "code",
   "execution_count": null,
   "metadata": {
    "collapsed": true
   },
   "outputs": [],
   "source": []
  }
 ],
 "metadata": {
  "kernelspec": {
   "display_name": "Python 3",
   "language": "python",
   "name": "python3"
  },
  "language_info": {
   "codemirror_mode": {
    "name": "ipython",
    "version": 3
   },
   "file_extension": ".py",
   "mimetype": "text/x-python",
   "name": "python",
   "nbconvert_exporter": "python",
   "pygments_lexer": "ipython3",
   "version": "3.4.3"
  }
 },
 "nbformat": 4,
 "nbformat_minor": 0
}
