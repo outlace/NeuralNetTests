{
 "cells": [
  {
   "cell_type": "code",
   "execution_count": 23,
   "metadata": {
    "collapsed": false
   },
   "outputs": [
    {
     "name": "stdout",
     "output_type": "stream",
     "text": [
      "Error before training: [[ 0.550767]]\n",
      "\n",
      "Error AFTER training: [[ 0.55326318]]\n",
      "\n",
      "Result:\n",
      "\n",
      "[[ 0.  0.  0.  0.  0.]]\n",
      "Expected Result:\n",
      "\n",
      "[?;1;0;1;0]\n"
     ]
    }
   ],
   "source": [
    "import numpy as np\n",
    "import runRNN as rn\n",
    "from sigmoid import sigmoid\n",
    "#X = np.matrix('[0;0;0;0;1;1;1;0;1;1;1;0;0;0;0;0;1;1;1;0;1;1;1;0;0;0;0;0;1;1;1;0;1;1;1;0]')# 12x1\n",
    "X = np.matrix('[0;0;1;1;0]')\n",
    "Y = np.matrix('[0;0;1;0;1]')\n",
    "numIn = 1\n",
    "numHid = 4\n",
    "numOut = 1\n",
    "theta1 = np.matrix( 1 * np.sqrt ( 6 / ( numIn + numHid) ) * np.random.randn( numIn + numHid + 1, numHid ) )\n",
    "theta2 = np.matrix( 1 * np.sqrt ( 6 / ( numHid + numOut ) ) * np.random.randn( numHid + 1, numOut ) )\n",
    "theta1_grad = np.zeros((numIn + numHid + 1, numHid))\n",
    "theta2_grad = np.zeros((numHid + 1, numOut))\n",
    "epochs = 10000\n",
    "alpha = 0.00001\n",
    "epsilon = 0.5\n",
    "hid_last = np.zeros((numHid, 1))\n",
    "last_change1 = np.zeros((numIn + numHid + 1, numHid))\n",
    "last_change2 = np.zeros((numHid + 1, numOut))\n",
    "m = X.shape[0]\n",
    "\n",
    "err = rn.costFunctionRNN(X, theta1, theta2)\n",
    "print('Error before training: %s\\n' % (err))\n",
    "for i in range(epochs):\n",
    "\t#forward propagation\n",
    "\ts = 0#np.random.randint(1, (m-1))\n",
    "\tfor j in range(s,m): #for every training element\n",
    "\t\t#y = X[j+1,:] #expected output, the next element in the sequence\n",
    "\t\ty = Y[j]\n",
    "\t\tcontext = hid_last\n",
    "\t\tx_context = np.concatenate((X[j,:], context))\n",
    "\t\ta1 = np.matrix(np.concatenate((x_context, np.matrix('[1]'))))#add bias, context units to input layer; 3x1\n",
    "\t\tz2 = theta1.T * a1; #2x1\n",
    "\t\ta2 = np.concatenate((sigmoid(z2), np.matrix('[1]'))) #add bias, output hidden layer; 3x1\n",
    "\t\thid_last = a2[0:-1, 0];\n",
    "\t\tz3 = theta2.T * a2 #1x1\n",
    "\t\ta3 = sigmoid(z3)\n",
    "\t\t#Backpropagation:::\n",
    "\t\t#calculate delta errors\n",
    "\t\td3 = (a3 - y)\n",
    "\t\td2 = np.multiply((theta2 * d3), np.multiply(a2, (1 - a2)))\n",
    "\t\t#accumulate gradients\n",
    "\t\ttheta1_grad = theta1_grad + (d2[0:numHid, :] * a1.T).T\n",
    "\t\ttheta2_grad = theta2_grad + (d3 * a2.T).T\n",
    "\t#We're using momentum here, need to keep track of the previous weight update\n",
    "\ttheta1_change = alpha * (1/m)*theta1_grad + epsilon * last_change1\n",
    "\ttheta2_change = alpha * (1/m)*theta2_grad + epsilon * last_change2\n",
    "\ttheta1 = theta1 - theta1_change\n",
    "\ttheta2 = theta2 - theta2_change\n",
    "\tlast_change1 = theta1_change\n",
    "\tlast_change2 = theta2_change\n",
    "\t#reset gradients\n",
    "\ttheta1_grad = np.zeros((numIn + numHid + 1, numHid))\n",
    "\ttheta2_grad = np.zeros((numHid + 1, numOut))\n",
    "\n",
    "X2 = np.matrix('[1;0;0;1;1]')\n",
    "err = rn.costFunctionRNN(X2, theta1, theta2)\n",
    "print('Error AFTER training: %s\\n' % (err))\n",
    "print('Result:\\n')\n",
    "print(np.round(rn.runForward(X2, theta1, theta2).T))\n",
    "print('Expected Result:\\n')\n",
    "print('[?;1;0;1;0]')"
   ]
  },
  {
   "cell_type": "code",
   "execution_count": 12,
   "metadata": {
    "collapsed": false
   },
   "outputs": [
    {
     "name": "stdout",
     "output_type": "stream",
     "text": [
      "Result:\n",
      "\n",
      "[[ 0.  0.  0.  1.  0.]]\n"
     ]
    }
   ],
   "source": [
    "Xt = np.matrix('[0;1;0;1;1;1]')\n",
    "print('Result:\\n')\n",
    "print(np.round(rn.runForward(Xt, theta1, theta2).T))"
   ]
  },
  {
   "cell_type": "code",
   "execution_count": null,
   "metadata": {
    "collapsed": true
   },
   "outputs": [],
   "source": []
  }
 ],
 "metadata": {
  "kernelspec": {
   "display_name": "Python 3",
   "language": "python",
   "name": "python3"
  },
  "language_info": {
   "codemirror_mode": {
    "name": "ipython",
    "version": 3
   },
   "file_extension": ".py",
   "mimetype": "text/x-python",
   "name": "python",
   "nbconvert_exporter": "python",
   "pygments_lexer": "ipython3",
   "version": "3.4.3"
  }
 },
 "nbformat": 4,
 "nbformat_minor": 0
}
