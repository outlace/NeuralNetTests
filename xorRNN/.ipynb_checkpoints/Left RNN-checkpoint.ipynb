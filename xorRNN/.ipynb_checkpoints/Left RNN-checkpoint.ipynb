{
 "cells": [
  {
   "cell_type": "code",
   "execution_count": 34,
   "metadata": {
    "collapsed": false
   },
   "outputs": [
    {
     "name": "stdout",
     "output_type": "stream",
     "text": [
      "[[ 0.79616074]]\n",
      "[[ 0.73553474]]\n",
      "[[ 0.73708412]]\n",
      "[[ 0.7385845]]\n",
      "[[ 0.74003753]]\n",
      "[[ 0.74144482]]\n",
      "[[ 0.74280792]]\n"
     ]
    },
    {
     "ename": "KeyboardInterrupt",
     "evalue": "",
     "output_type": "error",
     "traceback": [
      "\u001b[0;31m---------------------------------------------------------------------------\u001b[0m",
      "\u001b[0;31mKeyboardInterrupt\u001b[0m                         Traceback (most recent call last)",
      "\u001b[0;32m<ipython-input-34-83f21381a63e>\u001b[0m in \u001b[0;36m<module>\u001b[0;34m()\u001b[0m\n\u001b[1;32m     22\u001b[0m                 \u001b[0mcontext\u001b[0m \u001b[0;34m=\u001b[0m \u001b[0mout_last\u001b[0m\u001b[0;34m\u001b[0m\u001b[0m\n\u001b[1;32m     23\u001b[0m                 \u001b[0mx_context\u001b[0m \u001b[0;34m=\u001b[0m \u001b[0mnp\u001b[0m\u001b[0;34m.\u001b[0m\u001b[0mconcatenate\u001b[0m\u001b[0;34m(\u001b[0m\u001b[0;34m(\u001b[0m\u001b[0mX\u001b[0m\u001b[0;34m[\u001b[0m\u001b[0mj\u001b[0m\u001b[0;34m]\u001b[0m\u001b[0;34m,\u001b[0m \u001b[0mcontext\u001b[0m\u001b[0;34m)\u001b[0m\u001b[0;34m)\u001b[0m\u001b[0;34m\u001b[0m\u001b[0m\n\u001b[0;32m---> 24\u001b[0;31m                 \u001b[0ma1\u001b[0m \u001b[0;34m=\u001b[0m \u001b[0mnp\u001b[0m\u001b[0;34m.\u001b[0m\u001b[0mmatrix\u001b[0m\u001b[0;34m(\u001b[0m\u001b[0mnp\u001b[0m\u001b[0;34m.\u001b[0m\u001b[0mconcatenate\u001b[0m\u001b[0;34m(\u001b[0m\u001b[0;34m(\u001b[0m\u001b[0mx_context\u001b[0m\u001b[0;34m,\u001b[0m \u001b[0mnp\u001b[0m\u001b[0;34m.\u001b[0m\u001b[0mmatrix\u001b[0m\u001b[0;34m(\u001b[0m\u001b[0;34m'[1]'\u001b[0m\u001b[0;34m)\u001b[0m\u001b[0;34m)\u001b[0m\u001b[0;34m)\u001b[0m\u001b[0;34m)\u001b[0m\u001b[0;31m#add bias, context units to input layer; 3x1\u001b[0m\u001b[0;34m\u001b[0m\u001b[0m\n\u001b[0m\u001b[1;32m     25\u001b[0m                 \u001b[0mz2\u001b[0m \u001b[0;34m=\u001b[0m \u001b[0mtheta1\u001b[0m\u001b[0;34m.\u001b[0m\u001b[0mT\u001b[0m \u001b[0;34m*\u001b[0m \u001b[0ma1\u001b[0m\u001b[0;34m;\u001b[0m \u001b[0;31m#2x1\u001b[0m\u001b[0;34m\u001b[0m\u001b[0m\n\u001b[1;32m     26\u001b[0m                 \u001b[0ma2\u001b[0m \u001b[0;34m=\u001b[0m \u001b[0msigmoid\u001b[0m\u001b[0;34m(\u001b[0m\u001b[0mz2\u001b[0m\u001b[0;34m)\u001b[0m\u001b[0;34m\u001b[0m\u001b[0m\n",
      "\u001b[0;31mKeyboardInterrupt\u001b[0m: "
     ]
    }
   ],
   "source": [
    "import numpy as np\n",
    "from sigmoid import sigmoid\n",
    "X = np.matrix('[0;0;1;1;0;1]')\n",
    "Y = np.matrix('[0;0;0;1;1;0]')\n",
    "numIn = 1\n",
    "numOut = 1\n",
    "theta1 = np.matrix( 1 * np.sqrt ( 6 / ( numIn) ) * np.random.randn( numIn + numOut + 1, numOut ) )\n",
    "theta1_grad = np.zeros((numIn + numOut + 1, numOut))\n",
    "epochs = 90000\n",
    "alpha = 0.00005\n",
    "epsilon = 0.1\n",
    "out_last = np.zeros((numOut, 1))\n",
    "last_change1 = np.zeros((numIn + numOut + 1, numOut))\n",
    "m = X.shape[0]\n",
    "\n",
    "for i in range(epochs):\n",
    "\t#forward propagation\n",
    "\tresults = np.zeros(X.shape)\n",
    "\tJ = 0\n",
    "\tfor j in range(m): #for every training element\n",
    "\t\ty = Y[j]\n",
    "\t\tcontext = out_last\n",
    "\t\tx_context = np.concatenate((X[j], context))\n",
    "\t\ta1 = np.matrix(np.concatenate((x_context, np.matrix('[1]'))))#add bias, context units to input layer; 3x1\n",
    "\t\tz2 = theta1.T * a1; #2x1\n",
    "\t\ta2 = sigmoid(z2)\n",
    "\t\tout_last = a2;\n",
    "\t\tresults[j] = a2\n",
    "\t\t#Backpropagation:::\n",
    "\t\t#calculate delta errors\n",
    "\t\td3 = (a2 - y)\n",
    "\t\t#accumulate gradients\n",
    "\t\ttheta1_grad = theta1_grad + (d3 * a2.T).T\n",
    "\t\t#We're using momentum here, need to keep track of the previous weight update\n",
    "\t\ttheta1_change = alpha * (1/m)*theta1_grad + epsilon * last_change1\n",
    "\t\ttheta1 = theta1 - theta1_change\n",
    "\t\tlast_change1 = theta1_change\n",
    "\t\t#reset gradients\n",
    "\t\ttheta1_grad = np.zeros((numIn + numOut + 1, numOut))\n",
    "\tfor n in range(m-1):\n",
    "\t\ta3n = results[n, :].T.reshape(numOut, 1)\n",
    "\t\tyn = X[n+1, :].T\n",
    "\t\tJ = J + (-yn.T * np.log(a3n) - (1-yn).T * np.log(1-a3n))\n",
    "\tJ = (1/m) * J\n",
    "\tif (i % 5000) == 0:\n",
    "\t\tprint(J)\n",
    "    \n",
    "#forward\n",
    "Xt = np.matrix('[1;0;0;1;1]')\n",
    "out_last = np.zeros((numOut, 1))\n",
    "results = np.zeros(Xt.shape)\n",
    "for j in range(Xt.size): #for every training element\n",
    "\ty = Y[j]\n",
    "\tcontext = out_last\n",
    "\tx_context = np.concatenate((Xt[j], context))\n",
    "\ta1 = np.matrix(np.concatenate((x_context, np.matrix('[1]'))))#add bias, context units to input layer; 3x1\n",
    "\tz2 = theta1.T * a1; #2x1\n",
    "\ta2 = sigmoid(z2)\n",
    "\tout_last = a2;\n",
    "\tresults[j] = a2;\n",
    "\n",
    "print('Result:\\n')\n",
    "print(np.round(results))"
   ]
  },
  {
   "cell_type": "code",
   "execution_count": 32,
   "metadata": {
    "collapsed": false
   },
   "outputs": [
    {
     "data": {
      "text/plain": [
       "array([[ 0.82251889],\n",
       "       [ 0.62045822],\n",
       "       [ 0.68502726],\n",
       "       [ 0.63776457],\n",
       "       [ 0.65304464]])"
      ]
     },
     "execution_count": 32,
     "metadata": {},
     "output_type": "execute_result"
    }
   ],
   "source": []
  },
  {
   "cell_type": "code",
   "execution_count": null,
   "metadata": {
    "collapsed": true
   },
   "outputs": [],
   "source": []
  }
 ],
 "metadata": {
  "kernelspec": {
   "display_name": "Python 3",
   "language": "python",
   "name": "python3"
  },
  "language_info": {
   "codemirror_mode": {
    "name": "ipython",
    "version": 3
   },
   "file_extension": ".py",
   "mimetype": "text/x-python",
   "name": "python",
   "nbconvert_exporter": "python",
   "pygments_lexer": "ipython3",
   "version": "3.4.3"
  }
 },
 "nbformat": 4,
 "nbformat_minor": 0
}
